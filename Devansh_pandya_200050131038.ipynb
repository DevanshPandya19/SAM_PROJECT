{
  "cells": [
    {
      "cell_type": "markdown",
      "metadata": {
        "id": "view-in-github",
        "colab_type": "text"
      },
      "source": [
        "<a href=\"https://colab.research.google.com/github/DevanshPandya19/SAM_PROJECT/blob/main/Devansh_pandya_200050131038.ipynb\" target=\"_parent\"><img src=\"https://colab.research.google.com/assets/colab-badge.svg\" alt=\"Open In Colab\"/></a>"
      ]
    },
    {
      "cell_type": "code",
      "execution_count": null,
      "metadata": {
        "id": "1fz18ABOxr0J"
      },
      "outputs": [],
      "source": []
    },
    {
      "cell_type": "markdown",
      "metadata": {
        "id": "WYJl3MD_xuts"
      },
      "source": [
        "##pratical-1 \n",
        "##Aim:-write a program to find sum of two integers"
      ]
    },
    {
      "cell_type": "code",
      "execution_count": null,
      "metadata": {
        "id": "4MeqCR3b8lZT"
      },
      "outputs": [],
      "source": []
    },
    {
      "cell_type": "code",
      "execution_count": null,
      "metadata": {
        "colab": {
          "base_uri": "https://localhost:8080/"
        },
        "id": "Oes74fKHx4aQ",
        "outputId": "4fd2a616-32b9-46f3-ec08-8c92db68eae6"
      },
      "outputs": [
        {
          "name": "stdout",
          "output_type": "stream",
          "text": [
            "The sum of a and b is 6\n"
          ]
        }
      ],
      "source": [
        "a=2\n",
        "b=4\n",
        "c=a+b\n",
        "print(\"The sum of a and b is\",a+b)"
      ]
    },
    {
      "cell_type": "markdown",
      "metadata": {
        "id": "RLRG1eGext4f"
      },
      "source": []
    },
    {
      "cell_type": "markdown",
      "metadata": {
        "id": "GLDpJUQwycxR"
      },
      "source": [
        "#pratical-2\n",
        "#Aim:-Write a python program to find area of circle.\n"
      ]
    },
    {
      "cell_type": "code",
      "execution_count": null,
      "metadata": {
        "colab": {
          "base_uri": "https://localhost:8080/"
        },
        "id": "epMHPtaEytCg",
        "outputId": "7561fe53-5468-403b-f49c-da0862342a2d"
      },
      "outputs": [
        {
          "name": "stdout",
          "output_type": "stream",
          "text": [
            "Enter a radius\n",
            "2\n",
            "Area of circle is:  12.56\n"
          ]
        }
      ],
      "source": [
        "radius=float(input(\"Enter a radius\\n\")) \n",
        "area=3.14*radius*radius\n",
        "print(\"Area of circle is: \",area)"
      ]
    },
    {
      "cell_type": "markdown",
      "metadata": {
        "id": "v0_kzUR2z83u"
      },
      "source": [
        "#pratical-3\n",
        "#Aim:-Write a python program which input string and perform operations like finding length of string,  convert string into upper case, lower case, finding no of occurrences of character.\n"
      ]
    },
    {
      "cell_type": "code",
      "execution_count": null,
      "metadata": {
        "colab": {
          "base_uri": "https://localhost:8080/"
        },
        "id": "kOzwa7cg0Blt",
        "outputId": "15df8ca2-7ea7-4cfd-ccd1-89fa146b4f00"
      },
      "outputs": [
        {
          "name": "stdout",
          "output_type": "stream",
          "text": [
            "Enter a name\n",
            "Deep\n",
            "4\n",
            "DEEP\n",
            "deep\n",
            "2\n"
          ]
        }
      ],
      "source": [
        "a=input(\"Enter a name\\n\")\n",
        "print(len(a))\n",
        "print(a.upper())\n",
        "print(a.lower())\n",
        "print(a.count('e'))"
      ]
    },
    {
      "cell_type": "markdown",
      "metadata": {
        "id": "eF2Gc76U4XZh"
      },
      "source": [
        "#pratical-4\n",
        "#Aim:-Write a python program which input an array/s and perform various operations on it like,  finding length, insert element, delete element, search, update element, concatenation.\n",
        "\n"
      ]
    },
    {
      "cell_type": "code",
      "execution_count": null,
      "metadata": {
        "id": "F66AvGm6fWnK"
      },
      "outputs": [],
      "source": []
    },
    {
      "cell_type": "markdown",
      "metadata": {
        "id": "sz8ype6kfjxr"
      },
      "source": [
        "##finding length"
      ]
    },
    {
      "cell_type": "code",
      "execution_count": null,
      "metadata": {
        "colab": {
          "base_uri": "https://localhost:8080/"
        },
        "id": "qpVodM0KftOg",
        "outputId": "b030a15a-1094-4435-e037-9cf2998a1eb8"
      },
      "outputs": [
        {
          "name": "stdout",
          "output_type": "stream",
          "text": [
            "4\n",
            "<class 'numpy.ndarray'>\n",
            "[2, 4, 8, 9]\n",
            "[2 4 8 9]\n"
          ]
        }
      ],
      "source": [
        "\n",
        "import numpy as np\n",
        "#import array as ar\n",
        "arr=[2,4,8,9]\n",
        "a=np.array(arr)\n",
        "size=len(arr)\n",
        "print(size)\n",
        "print(type(a))\n",
        "print(arr)\n",
        "print(a)"
      ]
    },
    {
      "cell_type": "markdown",
      "metadata": {
        "id": "GBirSJOXosua"
      },
      "source": [
        "##for searching an element in array"
      ]
    },
    {
      "cell_type": "code",
      "execution_count": null,
      "metadata": {
        "colab": {
          "base_uri": "https://localhost:8080/"
        },
        "id": "gWoa3ZfmozSV",
        "outputId": "48df199a-39dc-43a1-aa2a-2caa752c0589"
      },
      "outputs": [
        {
          "name": "stdout",
          "output_type": "stream",
          "text": [
            "[2, 4, 5, 44, 55]\n",
            "1\n"
          ]
        }
      ],
      "source": [
        "import numpy as np \n",
        "arr=[2,4,5,44,55]\n",
        "print(arr)\n",
        "print(arr.index(4))"
      ]
    },
    {
      "cell_type": "markdown",
      "metadata": {
        "id": "MBvnIafrqGE7"
      },
      "source": [
        "##deleting an element in array\n",
        "##1.using remove()"
      ]
    },
    {
      "cell_type": "code",
      "execution_count": null,
      "metadata": {
        "colab": {
          "base_uri": "https://localhost:8080/"
        },
        "id": "oFliqFY6qazP",
        "outputId": "14652934-1097-4d1d-e0e0-b9cb4f146ee9"
      },
      "outputs": [
        {
          "name": "stdout",
          "output_type": "stream",
          "text": [
            "[3, 5, 6, 1, 3]\n",
            "After removing an element: \n",
            "[3, 5, 1, 3]\n"
          ]
        }
      ],
      "source": [
        "import numpy as np\n",
        "\n",
        "arr=[3,5,6,1,3]\n",
        "print(arr)\n",
        "arr.remove(6)\n",
        "print(\"After removing an element: \")\n",
        "print(arr)"
      ]
    },
    {
      "cell_type": "markdown",
      "metadata": {
        "id": "_MXMbpvyq2ny"
      },
      "source": [
        "##using pop()"
      ]
    },
    {
      "cell_type": "code",
      "execution_count": null,
      "metadata": {
        "colab": {
          "base_uri": "https://localhost:8080/"
        },
        "id": "kPrPDlDRq6Gg",
        "outputId": "7e8dc58f-b502-4e5c-ed0d-8a2238e9e2e8"
      },
      "outputs": [
        {
          "name": "stdout",
          "output_type": "stream",
          "text": [
            "[3, 2, 55, 22]\n",
            "After removing an element :\n",
            "[3, 2, 22]\n"
          ]
        }
      ],
      "source": [
        "import numpy as np\n",
        "\n",
        "arr=[3,2,55,22]\n",
        "print(arr)\n",
        "arr.pop(2)\n",
        "print(\"After removing an element :\")\n",
        "print(arr)"
      ]
    },
    {
      "cell_type": "markdown",
      "source": [],
      "metadata": {
        "id": "WXvhO1sM9Wuw"
      }
    },
    {
      "cell_type": "markdown",
      "metadata": {
        "id": "Et6vj_vMrXtq"
      },
      "source": []
    },
    {
      "cell_type": "code",
      "execution_count": null,
      "metadata": {
        "id": "ApoogwghqKT9"
      },
      "outputs": [],
      "source": []
    },
    {
      "cell_type": "code",
      "execution_count": null,
      "metadata": {
        "id": "Of3Xhraz4l9d"
      },
      "outputs": [],
      "source": []
    },
    {
      "cell_type": "markdown",
      "metadata": {
        "id": "McFoOxhm0Clw"
      },
      "source": []
    },
    {
      "cell_type": "markdown",
      "metadata": {
        "id": "UWmWsz_qQeEY"
      },
      "source": [
        "#pratical-5\n",
        "#Aim:-Write a python program which input list and perform operations like find length of list, insert  element into list, remove element from list, clear whole list, copy list, slicing of list, search  element, join two lists, extend list.\n",
        "\n",
        "#insert(),Length(),Remove() in List:\n"
      ]
    },
    {
      "cell_type": "code",
      "execution_count": null,
      "metadata": {
        "colab": {
          "base_uri": "https://localhost:8080/"
        },
        "id": "XfWtB-HwQrUj",
        "outputId": "d2cdf361-8347-4a8a-db76-53cec53feaf4"
      },
      "outputs": [
        {
          "name": "stdout",
          "output_type": "stream",
          "text": [
            "[2, 4, 5, 7, 3, 9, 55]\n",
            "Total elements in list are :  7\n",
            "List after removing elelmemnts : [2, 4, 5, 7, 3, 55]\n"
          ]
        }
      ],
      "source": [
        "l1=[2,4,5,7,3,9]\n",
        "l1.insert(22,55)\n",
        "print(l1)\n",
        "print(\"Total elements in list are : \", len(l1))\n",
        "l1.remove(9)\n",
        "print(\"List after removing elelmemnts :\",l1)\n"
      ]
    },
    {
      "cell_type": "markdown",
      "metadata": {
        "id": "_7lP6eEgZoLp"
      },
      "source": [
        "##clear() in list:\n"
      ]
    },
    {
      "cell_type": "code",
      "execution_count": null,
      "metadata": {
        "colab": {
          "base_uri": "https://localhost:8080/"
        },
        "id": "aPdlgoZfZtpu",
        "outputId": "4a3fe301-7145-4022-885c-4d21cc50db45"
      },
      "outputs": [
        {
          "name": "stdout",
          "output_type": "stream",
          "text": [
            "List2 before clearing :  [2, 3, 1]\n",
            "List2 after  clearing :  []\n"
          ]
        }
      ],
      "source": [
        "l2=[2,3,1]\n",
        "print(\"List2 before clearing : \",l2)\n",
        "l2.clear()\n",
        "print(\"List2 after  clearing : \",l2)"
      ]
    },
    {
      "cell_type": "markdown",
      "metadata": {
        "id": "zNLvIt8Safrt"
      },
      "source": [
        "##copy() in list"
      ]
    },
    {
      "cell_type": "code",
      "execution_count": null,
      "metadata": {
        "colab": {
          "base_uri": "https://localhost:8080/"
        },
        "id": "qB8kJtD5awS1",
        "outputId": "4044c3f3-deec-4ce7-c431-7cb97e23f4d8"
      },
      "outputs": [
        {
          "name": "stdout",
          "output_type": "stream",
          "text": [
            "The new list created is : [4, 5, 6]\n",
            "The new list after adding new element  : [4, 5, 6, 8]\n",
            "The old list after adding new element to new list  : [4, 5, 6]\n"
          ]
        }
      ],
      "source": [
        "l3=[4,5,6]\n",
        "l4=l3.copy()\n",
        "print(\"The new list created is : \"+str(l4))\n",
        "l4.append(8)\n",
        "print(\"The new list after adding new element  : \"+str(l4))\n",
        "print(\"The old list after adding new element to new list  : \"+str(l3))"
      ]
    },
    {
      "cell_type": "markdown",
      "metadata": {
        "id": "7wOo3P7sclTU"
      },
      "source": [
        "##slicing of list\n"
      ]
    },
    {
      "cell_type": "code",
      "execution_count": null,
      "metadata": {
        "colab": {
          "base_uri": "https://localhost:8080/"
        },
        "id": "C6rgHBjfcqjr",
        "outputId": "81e2c6d3-d431-4432-fda3-380b413aacd7"
      },
      "outputs": [
        {
          "name": "stdout",
          "output_type": "stream",
          "text": [
            "['tom', 'sam']\n"
          ]
        }
      ],
      "source": [
        "friends=[\"tom\",\"sam\",\"karan\",\"raju\"]\n",
        "print(friends[0:2])"
      ]
    },
    {
      "cell_type": "markdown",
      "metadata": {
        "id": "tuGsKzRmdUin"
      },
      "source": [
        "##searching element in list"
      ]
    },
    {
      "cell_type": "code",
      "execution_count": null,
      "metadata": {
        "colab": {
          "base_uri": "https://localhost:8080/"
        },
        "id": "scYkFXNbdngN",
        "outputId": "c66b6cfa-119e-428b-8bf9-4f02a31e91bd"
      },
      "outputs": [
        {
          "name": "stdout",
          "output_type": "stream",
          "text": [
            "45\n"
          ]
        }
      ],
      "source": [
        "a=[2,44,45,66,11]\n",
        "print(a[2])"
      ]
    },
    {
      "cell_type": "markdown",
      "metadata": {
        "id": "HFoQzNoBd-FN"
      },
      "source": [
        "##joining two list "
      ]
    },
    {
      "cell_type": "code",
      "execution_count": null,
      "metadata": {
        "colab": {
          "base_uri": "https://localhost:8080/"
        },
        "id": "gwa-EQpSeDit",
        "outputId": "bf98c987-8938-48f9-bbae-79629157e110"
      },
      "outputs": [
        {
          "name": "stdout",
          "output_type": "stream",
          "text": [
            "['kapil', 'sharma', 3, 5]\n"
          ]
        }
      ],
      "source": [
        "a=[\"kapil\",\"sharma\"]\n",
        "b=[3,5]\n",
        "c=a+b\n",
        "print(c)"
      ]
    },
    {
      "cell_type": "code",
      "execution_count": null,
      "metadata": {
        "id": "IY2HAscdda4T"
      },
      "outputs": [],
      "source": []
    },
    {
      "cell_type": "markdown",
      "metadata": {
        "id": "3UA7hmFGeTWn"
      },
      "source": [
        "##using extend():"
      ]
    },
    {
      "cell_type": "markdown",
      "source": [],
      "metadata": {
        "id": "I9a7AcsDVXKC"
      }
    },
    {
      "cell_type": "code",
      "execution_count": null,
      "metadata": {
        "colab": {
          "base_uri": "https://localhost:8080/"
        },
        "id": "rRY93Jn9eXf8",
        "outputId": "59781bb1-9fab-4234-cd52-0208d9325825"
      },
      "outputs": [
        {
          "name": "stdout",
          "output_type": "stream",
          "text": [
            "[2, 3, 90, 98]\n"
          ]
        }
      ],
      "source": [
        "a=[2,3]\n",
        "b=[90,98]\n",
        "a.extend(b)\n",
        "print(a)"
      ]
    },
    {
      "cell_type": "markdown",
      "metadata": {
        "id": "MPwG-zdzkIdV"
      },
      "source": []
    },
    {
      "cell_type": "markdown",
      "metadata": {
        "id": "nCPAw2TrkJE7"
      },
      "source": [
        "##pratical:-6\n",
        "##aim:-Write a python program which find length of tuple, create tuple with repetition, performs slicing  of tuple, delete tuple, concatenation tuples, and convert list into tuple\n"
      ]
    },
    {
      "cell_type": "code",
      "execution_count": null,
      "metadata": {
        "colab": {
          "base_uri": "https://localhost:8080/"
        },
        "id": "9YohLbfFkXmf",
        "outputId": "c8d1abd4-c4d3-4456-e694-d0092a669e6f"
      },
      "outputs": [
        {
          "name": "stdout",
          "output_type": "stream",
          "text": [
            "4\n"
          ]
        }
      ],
      "source": [
        "t1=(22,3,1,2)\n",
        "print(len(t1))\n",
        "\n"
      ]
    },
    {
      "cell_type": "markdown",
      "metadata": {
        "id": "m3kIf9wVlChp"
      },
      "source": [
        "##create tuple with repeation "
      ]
    },
    {
      "cell_type": "code",
      "execution_count": null,
      "metadata": {
        "colab": {
          "base_uri": "https://localhost:8080/"
        },
        "id": "UNxxE503lKe-",
        "outputId": "848d3408-481e-4afc-f30a-721208f67cf6"
      },
      "outputs": [
        {
          "name": "stdout",
          "output_type": "stream",
          "text": [
            "('java', 'java', 'java')\n"
          ]
        }
      ],
      "source": [
        "t2=(\"java\",)*3\n",
        "print(t2)"
      ]
    },
    {
      "cell_type": "code",
      "execution_count": null,
      "metadata": {
        "id": "rjHx50hLma5g"
      },
      "outputs": [],
      "source": []
    },
    {
      "cell_type": "markdown",
      "metadata": {
        "id": "lnzntDkElwRr"
      },
      "source": [
        "##slicing of tuple"
      ]
    },
    {
      "cell_type": "code",
      "execution_count": null,
      "metadata": {
        "id": "5jFFccy_oBI5"
      },
      "outputs": [],
      "source": []
    },
    {
      "cell_type": "code",
      "execution_count": null,
      "metadata": {
        "colab": {
          "base_uri": "https://localhost:8080/"
        },
        "id": "y_Hf4qLTlzVc",
        "outputId": "1f1143e4-7a6b-4a4e-b001-db5a2714cdbc"
      },
      "outputs": [
        {
          "name": "stdout",
          "output_type": "stream",
          "text": [
            "sliced tuples are : \n",
            "('tom', 'ram', 'suresh')\n"
          ]
        }
      ],
      "source": [
        "t3=(\"tom\",\"ram\",\"suresh\",99,98)\n",
        "print(\"sliced tuples are : \")\n",
        "print(t3[0:3])\n",
        "\n",
        "      "
      ]
    },
    {
      "cell_type": "markdown",
      "metadata": {
        "id": "TMsY6AobmopB"
      },
      "source": [
        "##delete tuple "
      ]
    },
    {
      "cell_type": "code",
      "execution_count": null,
      "metadata": {
        "id": "pUKJoJd3nLVp"
      },
      "outputs": [],
      "source": [
        "t4=(22,33,1,33)\n",
        "del t4"
      ]
    },
    {
      "cell_type": "markdown",
      "metadata": {
        "id": "hGptJ_4Knqi9"
      },
      "source": [
        "##converting a list into tuple"
      ]
    },
    {
      "cell_type": "code",
      "execution_count": null,
      "metadata": {
        "colab": {
          "base_uri": "https://localhost:8080/"
        },
        "id": "_hkJudZjnuMq",
        "outputId": "ffc2730e-4952-496f-9554-946b8209809f"
      },
      "outputs": [
        {
          "name": "stdout",
          "output_type": "stream",
          "text": [
            "(8, 9, 3)\n",
            "('p', 'y', 't', 'h', 'o', 'n')\n"
          ]
        }
      ],
      "source": [
        "l1=[8,9,3]\n",
        "print(tuple(l1))\n",
        "print(tuple(\"python\"))\n"
      ]
    },
    {
      "cell_type": "markdown",
      "metadata": {
        "id": "gtDoL14NoZjo"
      },
      "source": [
        "##concateing in tuple\n"
      ]
    },
    {
      "cell_type": "code",
      "execution_count": null,
      "metadata": {
        "colab": {
          "base_uri": "https://localhost:8080/"
        },
        "id": "tuOHX_5Aoeid",
        "outputId": "77d460ae-4480-47ed-9478-73aa2d02d484"
      },
      "outputs": [
        {
          "output_type": "stream",
          "name": "stdout",
          "text": [
            "(77, 99, 88, 76)\n"
          ]
        }
      ],
      "source": [
        "t5=(77,99)\n",
        "t6=(88,76)\n",
        "c=t5+t6\n",
        "print(c)\n",
        "    "
      ]
    },
    {
      "cell_type": "markdown",
      "metadata": {
        "id": "gFj70EGjk_iY"
      },
      "source": []
    },
    {
      "cell_type": "code",
      "execution_count": null,
      "metadata": {
        "id": "7yxy91wUkN5y"
      },
      "outputs": [],
      "source": []
    },
    {
      "cell_type": "markdown",
      "source": [],
      "metadata": {
        "id": "PzEIZCAN9a7g"
      }
    },
    {
      "cell_type": "markdown",
      "source": [
        "##pratical:-7\n",
        "##Aim:-Write a python program which print set, search items in set, add item, add multiple items, find  the length of set, delete the element from set using various methods, empty the set using  various methods, and join two sets.\n",
        "\n"
      ],
      "metadata": {
        "id": "Z5UzJafE9ngh"
      }
    },
    {
      "cell_type": "code",
      "source": [
        "\n",
        "a={9,88}\n",
        "print(a)\n",
        "print(type(a))\n",
        "\n",
        "      "
      ],
      "metadata": {
        "colab": {
          "base_uri": "https://localhost:8080/"
        },
        "id": "vxgeZX8T99Bq",
        "outputId": "c89322f6-c97c-4d30-e65a-8066f1e37d9b"
      },
      "execution_count": null,
      "outputs": [
        {
          "output_type": "stream",
          "name": "stdout",
          "text": [
            "{88, 9}\n",
            "<class 'set'>\n"
          ]
        }
      ]
    },
    {
      "cell_type": "markdown",
      "source": [
        "##search items in set"
      ],
      "metadata": {
        "id": "2wwDWqueAGwM"
      }
    },
    {
      "cell_type": "code",
      "source": [
        "a={9,88,77}\n",
        "print(88 in a)"
      ],
      "metadata": {
        "colab": {
          "base_uri": "https://localhost:8080/"
        },
        "id": "JH1CaI1KALDq",
        "outputId": "a723dfd9-4876-4c92-e6ad-72445c38c59f"
      },
      "execution_count": null,
      "outputs": [
        {
          "output_type": "stream",
          "name": "stdout",
          "text": [
            "True\n"
          ]
        }
      ]
    },
    {
      "cell_type": "markdown",
      "source": [
        "##add items in set"
      ],
      "metadata": {
        "id": "MB_7acD_BiR9"
      }
    },
    {
      "cell_type": "code",
      "source": [
        "a={33,44,34,87}\n",
        "a.add(77)\n",
        "print(\"The new a is : \")\n",
        "print(a)"
      ],
      "metadata": {
        "colab": {
          "base_uri": "https://localhost:8080/"
        },
        "id": "2957yE1bBk5r",
        "outputId": "27cc9453-90b5-4f58-c46c-12959d309327"
      },
      "execution_count": null,
      "outputs": [
        {
          "output_type": "stream",
          "name": "stdout",
          "text": [
            "The new a is : \n",
            "{33, 34, 44, 77, 87}\n"
          ]
        }
      ]
    },
    {
      "cell_type": "markdown",
      "source": [
        "#add multiple items"
      ],
      "metadata": {
        "id": "tPIsZaVmB5oH"
      }
    },
    {
      "cell_type": "code",
      "source": [
        "a={99,88,78,90}\n",
        "a.add(80)\n",
        "a.add(\"TOM\")\n",
        "print(a)"
      ],
      "metadata": {
        "colab": {
          "base_uri": "https://localhost:8080/"
        },
        "id": "MhJb1xkDB_0T",
        "outputId": "0924b565-d908-4fce-d1a3-2f5cbd3c4b09"
      },
      "execution_count": null,
      "outputs": [
        {
          "output_type": "stream",
          "name": "stdout",
          "text": [
            "{99, 78, 80, 88, 90, 'TOM'}\n"
          ]
        }
      ]
    },
    {
      "cell_type": "markdown",
      "source": [
        "##finding length of the set"
      ],
      "metadata": {
        "id": "pD0vQ_Y_CRul"
      }
    },
    {
      "cell_type": "code",
      "source": [
        "a={99,34,22}\n",
        "print(len(a))\n",
        "   "
      ],
      "metadata": {
        "colab": {
          "base_uri": "https://localhost:8080/"
        },
        "id": "wb3J-_1iCY0y",
        "outputId": "c8caa388-bc7b-4141-df9c-6d910792f18c"
      },
      "execution_count": null,
      "outputs": [
        {
          "output_type": "stream",
          "name": "stdout",
          "text": [
            "3\n"
          ]
        }
      ]
    },
    {
      "cell_type": "markdown",
      "source": [
        "##deleting elements from set\n",
        "##1 by remove()"
      ],
      "metadata": {
        "id": "fLvP0GQACiFI"
      }
    },
    {
      "cell_type": "code",
      "source": [
        "fruits={\"apple\",\"mango\"}\n",
        "fruits.remove(\"apple\")\n",
        "print(fruits)"
      ],
      "metadata": {
        "colab": {
          "base_uri": "https://localhost:8080/"
        },
        "id": "JzK05rhACure",
        "outputId": "baa915bc-db40-485d-f188-e90f54f88a44"
      },
      "execution_count": null,
      "outputs": [
        {
          "output_type": "stream",
          "name": "stdout",
          "text": [
            "{'mango'}\n"
          ]
        }
      ]
    },
    {
      "cell_type": "markdown",
      "source": [
        "##empty the set"
      ],
      "metadata": {
        "id": "6SFqpz76DgF6"
      }
    },
    {
      "cell_type": "code",
      "source": [
        "a={}\n",
        "print(a)"
      ],
      "metadata": {
        "colab": {
          "base_uri": "https://localhost:8080/"
        },
        "id": "Y9N6qJlMDjS0",
        "outputId": "354d6124-42d6-406f-f416-eacc68a37c9e"
      },
      "execution_count": null,
      "outputs": [
        {
          "output_type": "stream",
          "name": "stdout",
          "text": [
            "{}\n"
          ]
        }
      ]
    },
    {
      "cell_type": "markdown",
      "source": [
        "##joining two sets"
      ],
      "metadata": {
        "id": "BB4mh-IDDxSK"
      }
    },
    {
      "cell_type": "code",
      "source": [
        "s1={\"Apple\",\"Banana\"}\n",
        "s2={\"bhindi\",\"sev\"}\n",
        "s3=s1.union(s2)\n",
        "\n"
      ],
      "metadata": {
        "id": "yWmA4z9zEQWM"
      },
      "execution_count": null,
      "outputs": []
    },
    {
      "cell_type": "markdown",
      "source": [
        "##pratical:-8\n",
        "##Aim:-Write a python program which print dictionary, accessing items of dictionary using various  methods, change value of specific item, display dictionary using loop, display dictionary using  loop and items() method, check key is exist or not in dictionary, find length of dictionary, add  items in dictionary, remove items from dictionary using various methods, empty dictionary  using various methods, copy dictionary using various methods.\n",
        "\n",
        "##prints dictionary"
      ],
      "metadata": {
        "id": "3rgFO5bLxUBz"
      }
    },
    {
      "cell_type": "code",
      "source": [
        "myDict={\n",
        "    \"Fast\":\"In a quick manner\"\n",
        "    \n",
        "    \n",
        "}\n",
        "print(myDict['Fast'])\n"
      ],
      "metadata": {
        "colab": {
          "base_uri": "https://localhost:8080/"
        },
        "id": "Gq06fCwT2748",
        "outputId": "f6cee4cb-a048-438c-b465-dff88f6fcc34"
      },
      "execution_count": null,
      "outputs": [
        {
          "output_type": "stream",
          "name": "stdout",
          "text": [
            "In a quick manner\n"
          ]
        }
      ]
    },
    {
      "cell_type": "markdown",
      "source": [
        "##accessing items of dictionary using various methods"
      ],
      "metadata": {
        "id": "_3uIkk064_Fw"
      }
    },
    {
      "cell_type": "code",
      "source": [
        "myDict={\n",
        "    \"Fast\":\"In a quick manner\",\n",
        "    \"Marks\": [22,44,12]\n",
        "    \n",
        "    \n",
        "}\n",
        "print(myDict.keys())\n",
        "print(myDict.values())\n",
        "print(myDict.items())\n"
      ],
      "metadata": {
        "colab": {
          "base_uri": "https://localhost:8080/"
        },
        "id": "ZKLLegyp5PmJ",
        "outputId": "4426c435-02d6-4776-9a4a-a7083c3cdd4a"
      },
      "execution_count": null,
      "outputs": [
        {
          "output_type": "stream",
          "name": "stdout",
          "text": [
            "dict_keys(['Fast', 'Marks'])\n",
            "dict_values(['In a quick manner', [22, 44, 12]])\n",
            "dict_items([('Fast', 'In a quick manner'), ('Marks', [22, 44, 12])])\n"
          ]
        }
      ]
    },
    {
      "cell_type": "markdown",
      "source": [
        "##change value of specific item"
      ],
      "metadata": {
        "id": "Cw3zXPE5-2lv"
      }
    },
    {
      "cell_type": "code",
      "source": [
        "updateDict={\n",
        "    \"Lovish\":\"Friend\",\n",
        "    \"devansh\":\"good friend\"\n",
        "}\n",
        "myDict.update(updateDict)\n",
        "print(myDict)"
      ],
      "metadata": {
        "colab": {
          "base_uri": "https://localhost:8080/"
        },
        "id": "oFN93dqv-4io",
        "outputId": "2148bff7-7486-4d82-be40-17cd78b51171"
      },
      "execution_count": null,
      "outputs": [
        {
          "output_type": "stream",
          "name": "stdout",
          "text": [
            "{'Fast': 'In a quick manner', 'Marks': [22, 44, 12], 'Lovish': 'Friend', 'devansh': 'good friend'}\n"
          ]
        }
      ]
    },
    {
      "cell_type": "markdown",
      "source": [
        "##display dictionary using loop"
      ],
      "metadata": {
        "id": "vVCVkFQTASMS"
      }
    },
    {
      "cell_type": "code",
      "source": [
        "statesAndcapitals={\n",
        "    \"Gujarat\":\"Gandhinagar\",\n",
        "    \"Bihar\":\"Patna\"\n",
        "}\n",
        "for state in statesAndcapitals:\n",
        "  print(state)\n"
      ],
      "metadata": {
        "colab": {
          "base_uri": "https://localhost:8080/"
        },
        "id": "kJZIA-0JAUha",
        "outputId": "811bf256-4e07-48b2-b1bd-af948e4f25d1"
      },
      "execution_count": null,
      "outputs": [
        {
          "output_type": "stream",
          "name": "stdout",
          "text": [
            "Gujarat\n",
            "Bihar\n"
          ]
        }
      ]
    },
    {
      "cell_type": "markdown",
      "source": [
        "##Display dictionary using  loop and items() method"
      ],
      "metadata": {
        "id": "20lJQW3-Coqv"
      }
    },
    {
      "cell_type": "code",
      "source": [
        "statesAndcapitals={\n",
        "    \"Gujarat\":\"Gandhinagar\",\n",
        "    \"Bihar\":\"Patna\"\n",
        "}\n",
        "for state,capital in statesAndcapitals.items():\n",
        "  print(state,\":\", capital)"
      ],
      "metadata": {
        "colab": {
          "base_uri": "https://localhost:8080/"
        },
        "id": "oYhqN_2dCvVz",
        "outputId": "0258f013-867c-43a7-d22e-89192a22377f"
      },
      "execution_count": null,
      "outputs": [
        {
          "output_type": "stream",
          "name": "stdout",
          "text": [
            "Gujarat : Gandhinagar\n",
            "Bihar : Patna\n"
          ]
        }
      ]
    },
    {
      "cell_type": "markdown",
      "source": [
        "## check key is exist or not in dictionary"
      ],
      "metadata": {
        "id": "-CGSY5CLEL6_"
      }
    },
    {
      "cell_type": "code",
      "source": [
        "statesAndcapitals={\n",
        "    \"Gujarat\":\"Gandhinagar\",\n",
        "    \"Bihar\":\"Patna\"\n",
        "}\n",
        "print(statesAndcapitals.get(\"Assam\"))\n",
        "print(\"Not present in the dictionary : \")"
      ],
      "metadata": {
        "colab": {
          "base_uri": "https://localhost:8080/"
        },
        "id": "zOqUu2mvEOM-",
        "outputId": "f7ca610f-4c90-4760-82c2-d35add42e444"
      },
      "execution_count": null,
      "outputs": [
        {
          "output_type": "stream",
          "name": "stdout",
          "text": [
            "None\n",
            "Not present in the dictionary : \n"
          ]
        }
      ]
    },
    {
      "cell_type": "markdown",
      "source": [
        "##find length of dictionary"
      ],
      "metadata": {
        "id": "VSw1yOevFac6"
      }
    },
    {
      "cell_type": "code",
      "source": [
        "statesAndcapitals={\n",
        "    \"Gujarat\":\"Gandhinagar\",\n",
        "    \"Bihar\":\"Patna\"\n",
        "}\n",
        "print(len(statesAndcapitals))"
      ],
      "metadata": {
        "colab": {
          "base_uri": "https://localhost:8080/"
        },
        "id": "HmQbWAqoFg9p",
        "outputId": "9a9fdf0c-48f2-4997-f4f7-aa2057f7f8ea"
      },
      "execution_count": null,
      "outputs": [
        {
          "output_type": "stream",
          "name": "stdout",
          "text": [
            "2\n"
          ]
        }
      ]
    },
    {
      "cell_type": "markdown",
      "source": [
        "## adding  items in dictionary,"
      ],
      "metadata": {
        "id": "FsJ0jQ6rGMbt"
      }
    },
    {
      "cell_type": "code",
      "source": [
        "statesAndcapitals={\n",
        "    \"Gujarat\":\"Gandhinagar\",\n",
        "    \"Bihar\":\"Patna\"\n",
        "}\n",
        "statesAndcapitals[\"Goa\"]=\"panji\"\n",
        "print(statesAndcapitals)"
      ],
      "metadata": {
        "colab": {
          "base_uri": "https://localhost:8080/"
        },
        "id": "WnShntQeGUG8",
        "outputId": "756e6961-cb9a-4240-c4ef-01d04f129a44"
      },
      "execution_count": null,
      "outputs": [
        {
          "output_type": "stream",
          "name": "stdout",
          "text": [
            "{'Gujarat': 'Gandhinagar', 'Bihar': 'Patna', 'Goa': 'panji'}\n"
          ]
        }
      ]
    },
    {
      "cell_type": "markdown",
      "source": [
        "##remove items from dictionary using various methods\n",
        "##1.By pop()\n"
      ],
      "metadata": {
        "id": "CVct9-n9G6d-"
      }
    },
    {
      "cell_type": "code",
      "source": [
        "statesAndcapitals={\n",
        "    \"Gujarat\":\"Gandhinagar\",\n",
        "    \"Bihar\":\"Patna\"\n",
        "}\n",
        "statesAndcapitals.pop(\"Bihar\")\n",
        "print(statesAndcapitals)"
      ],
      "metadata": {
        "colab": {
          "base_uri": "https://localhost:8080/"
        },
        "id": "JNg-kKlhHoLF",
        "outputId": "05c28e7f-cf38-42fa-d874-5b458ba6ac05"
      },
      "execution_count": null,
      "outputs": [
        {
          "output_type": "stream",
          "name": "stdout",
          "text": [
            "{'Gujarat': 'Gandhinagar'}\n"
          ]
        }
      ]
    },
    {
      "cell_type": "markdown",
      "source": [
        "##2.By del()\n"
      ],
      "metadata": {
        "id": "7LYyQJR4IK9Z"
      }
    },
    {
      "cell_type": "code",
      "source": [
        "statesAndcapitals={\n",
        "    \"Gujarat\":\"Gandhinagar\",\n",
        "    \"Bihar\":\"Patna\"\n",
        "}\n",
        "del statesAndcapitals['Gujarat']\n",
        "print(statesAndcapitals)"
      ],
      "metadata": {
        "colab": {
          "base_uri": "https://localhost:8080/"
        },
        "id": "jbGTbDaQIOC_",
        "outputId": "4d3feaed-8bd9-486b-b1a6-717caf70ae51"
      },
      "execution_count": null,
      "outputs": [
        {
          "output_type": "stream",
          "name": "stdout",
          "text": [
            "{'Bihar': 'Patna'}\n"
          ]
        }
      ]
    },
    {
      "cell_type": "markdown",
      "source": [
        "##3.By clear()"
      ],
      "metadata": {
        "id": "VApfHJ-CIiGy"
      }
    },
    {
      "cell_type": "code",
      "source": [
        "statesAndcapitals={\n",
        "    \"Gujarat\":\"Gandhinagar\",\n",
        "    \"Bihar\":\"Patna\"\n",
        "}\n",
        "statesAndcapitals.clear()\n",
        "print(statesAndcapitals)"
      ],
      "metadata": {
        "colab": {
          "base_uri": "https://localhost:8080/"
        },
        "id": "JZtwNf0nIlUi",
        "outputId": "8fcd2151-6aa2-4130-8cae-15d421c68a74"
      },
      "execution_count": null,
      "outputs": [
        {
          "output_type": "stream",
          "name": "stdout",
          "text": [
            "{}\n"
          ]
        }
      ]
    },
    {
      "cell_type": "markdown",
      "source": [
        "##empty dictionary  using various methods"
      ],
      "metadata": {
        "id": "RRZ005prJNQ7"
      }
    },
    {
      "cell_type": "code",
      "source": [
        "statesAndcapitals={\n",
        "    \"Gujarat\":\"Gandhinagar\",\n",
        "    \"Bihar\":\"Patna\"\n",
        "}\n",
        "statesAndcapitals.clear()\n",
        "print(statesAndcapitals)"
      ],
      "metadata": {
        "colab": {
          "base_uri": "https://localhost:8080/"
        },
        "id": "1Aonxo94JPdR",
        "outputId": "51ac6169-5d70-4422-c155-292bd240245b"
      },
      "execution_count": null,
      "outputs": [
        {
          "output_type": "stream",
          "name": "stdout",
          "text": [
            "{}\n"
          ]
        }
      ]
    },
    {
      "cell_type": "markdown",
      "source": [
        "##copy dictionary using various methods"
      ],
      "metadata": {
        "id": "vksjBsHZKPpQ"
      }
    },
    {
      "cell_type": "code",
      "source": [
        "originalMarks={\n",
        "    \"maths\" : 55,\n",
        "    \"English\":90\n",
        "}\n",
        "copiedMarks=originalMarks.copy()\n",
        "print('OriginalMarks:',originalMarks )\n",
        "print('CopiedMarks:', copiedMarks)\n",
        "\n",
        "    \n"
      ],
      "metadata": {
        "colab": {
          "base_uri": "https://localhost:8080/"
        },
        "id": "sp6Px7otKR6R",
        "outputId": "c5ebd6e6-bffe-4b26-a869-4689898d3777"
      },
      "execution_count": null,
      "outputs": [
        {
          "output_type": "stream",
          "name": "stdout",
          "text": [
            "OriginalMarks: {'maths': 55, 'English': 90}\n",
            "CopiedMarks: {'maths': 55, 'English': 90}\n"
          ]
        }
      ]
    },
    {
      "cell_type": "markdown",
      "source": [
        "##pratical:-9\n",
        "##Aim:-Write a python program to find max value from two values using function.\n",
        "\n"
      ],
      "metadata": {
        "id": "0Nu1jogaNhOn"
      }
    },
    {
      "cell_type": "markdown",
      "source": [
        "\n",
        "\n"
      ],
      "metadata": {
        "id": "O4l0Pn6lZHXi"
      }
    },
    {
      "cell_type": "code",
      "source": [
        "def maximum(num1,num2):\n",
        "  if(num1>num2):\n",
        "    return num1\n",
        "  else:\n",
        "    return num2\n",
        "m=maximum(66,23)\n",
        "print(\"The maximum number is :\" +str(m))      "
      ],
      "metadata": {
        "colab": {
          "base_uri": "https://localhost:8080/"
        },
        "id": "ugb5-Nv9ZZDf",
        "outputId": "5f26c038-8936-4bbd-f3bb-f55b5a10fb64"
      },
      "execution_count": null,
      "outputs": [
        {
          "output_type": "stream",
          "name": "stdout",
          "text": [
            "The maximum number is :66\n"
          ]
        }
      ]
    },
    {
      "cell_type": "markdown",
      "source": [
        "##pratical:-10\n",
        "##Aim:-Write a python program to find factorial of number using function.\n",
        "\n"
      ],
      "metadata": {
        "id": "ojDTvpm7aFsU"
      }
    },
    {
      "cell_type": "code",
      "source": [
        "def factorial(num):\n",
        "  factorial=1\n",
        "  if(num==0 ):\n",
        "    print(\"Factorial is 1  \")\n",
        "  else:\n",
        "    for i in range(1,num+1):\n",
        "      factorial=factorial*i\n",
        "      print(\"Factorial is \",factorial)\n",
        "a=int(input(\"Enter a number : \"))\n",
        "print(factorial(a))\n",
        "\n",
        "   "
      ],
      "metadata": {
        "colab": {
          "base_uri": "https://localhost:8080/"
        },
        "id": "PRUl2PDEaOmf",
        "outputId": "7e99e529-7a73-4309-9750-7cb003dcf792"
      },
      "execution_count": null,
      "outputs": [
        {
          "output_type": "stream",
          "name": "stdout",
          "text": [
            "Enter a number : 5\n",
            "Factorial is  1\n",
            "Factorial is  2\n",
            "Factorial is  6\n",
            "Factorial is  24\n",
            "Factorial is  120\n",
            "None\n"
          ]
        }
      ]
    },
    {
      "cell_type": "markdown",
      "source": [
        "##pratical:-11\n",
        "##Aim:-write a python program using function which display first name and last name in reverse as well  according to user choice."
      ],
      "metadata": {
        "id": "1lOu_L9xhVpO"
      }
    },
    {
      "cell_type": "code",
      "source": [
        "def reverse_fun(x,y):\n",
        "  c=x\n",
        "  d=y\n",
        "  print(\"first name is \",c)\n",
        "  print(\"last name is\",d)\n",
        "  a=input(\"Enter the first name : \")\n",
        "  b=input(\"Enter the last name : \")\n",
        "  reverse_fun(a,b)\n"
      ],
      "metadata": {
        "id": "nFrGXrLThe5x"
      },
      "execution_count": null,
      "outputs": []
    },
    {
      "cell_type": "markdown",
      "source": [
        "##Pratical:-12\n",
        "##Aim:-Write a python program which shows the use of argument/s default value in function.\n",
        "\n"
      ],
      "metadata": {
        "id": "OLxHrcce6TOO"
      }
    },
    {
      "cell_type": "code",
      "source": [
        "def greet(name=\"stranger\"):\n",
        "  print(\"Good day,\"+name)\n",
        "greet(\"devansh\")  \n",
        "greet()\n"
      ],
      "metadata": {
        "colab": {
          "base_uri": "https://localhost:8080/"
        },
        "id": "2PyaMMAa6cdc",
        "outputId": "0a76ebec-8b6c-406a-c883-4ac135355290"
      },
      "execution_count": null,
      "outputs": [
        {
          "output_type": "stream",
          "name": "stdout",
          "text": [
            "Good day,devansh\n",
            "Good day,stranger\n"
          ]
        }
      ]
    },
    {
      "cell_type": "markdown",
      "source": [
        "##pratical:-13\n",
        "##Aim:-Write a python program which finds factorial of number using recursion."
      ],
      "metadata": {
        "id": "cDOJqzwY7kBG"
      }
    },
    {
      "cell_type": "code",
      "source": [
        "def factorial(n):\n",
        "  if n==1:\n",
        "    return n\n",
        "  else:\n",
        "    return n* factorial(n-1)\n",
        "  num=7\n",
        "  if num<0 :\n",
        "    print(\"factorial  does not exist for negative numbers \")\n",
        "  elif num==0:\n",
        "    print(\"The factorial of 0 is 1\")  \n",
        "  else:\n",
        "    print(\"Factorial of\" ,num,\"is \",factorial(num))  \n"
      ],
      "metadata": {
        "id": "5A24JlLw7sVz"
      },
      "execution_count": null,
      "outputs": []
    },
    {
      "cell_type": "markdown",
      "source": [
        "##pratical:=14\n",
        "##Aim:=Write a python program which print Fibonacci series using recursive function"
      ],
      "metadata": {
        "id": "burxNHayGdGm"
      }
    },
    {
      "cell_type": "code",
      "source": [
        "\n",
        "def fibo(n):\n",
        "    if n==1:\n",
        "        return 0\n",
        "    elif n==2:\n",
        "        return 1\n",
        "    else:\n",
        "        return (fibo(n-1)+(n-2) ) \n",
        "\n",
        "        n=int(input(\"Enter number of terms : \") )\n",
        "        for i in range(1,n+1):\n",
        "            print(fibo(i))     \n",
        "\n",
        "\n",
        "    "
      ],
      "metadata": {
        "id": "EkrrmUylGlXo"
      },
      "execution_count": null,
      "outputs": []
    },
    {
      "cell_type": "markdown",
      "source": [],
      "metadata": {
        "id": "0OnNIJ2O6SQi"
      }
    },
    {
      "cell_type": "markdown",
      "source": [
        "##pratical:-15\n",
        "##Aim:-Write a python program to implement student class having rno, name as class variables. Also  use constructor and write input and display functions."
      ],
      "metadata": {
        "id": "Y9AWe8D6V3MV"
      }
    },
    {
      "cell_type": "code",
      "source": [
        "class Student:\n",
        "  def __init__(self,name,rno):\n",
        "    self.name=name\n",
        "    self.rno=rno\n",
        "\n",
        "  def getStudentInfo(self):\n",
        "    print(f\"The name of the student is {self.name}\") \n",
        "    print(f\"The rno of the student is {self.rno}\")\n",
        "\n",
        "Devansh=Student(\"Devansh\",38)\n",
        "Devansh.getStudentInfo()      \n"
      ],
      "metadata": {
        "colab": {
          "base_uri": "https://localhost:8080/"
        },
        "id": "BRpTPp_gV-nD",
        "outputId": "6991943a-21c4-4226-f194-09e25fe4876d"
      },
      "execution_count": null,
      "outputs": [
        {
          "output_type": "stream",
          "name": "stdout",
          "text": [
            "The name of the student is Devansh\n",
            "The rno of the student is 38\n"
          ]
        }
      ]
    },
    {
      "cell_type": "markdown",
      "source": [
        "##pratical:-16\n",
        "##Aim:-Write a program using Numpy to capitalize the first letter, lower case, upper case, swap case  and title case of all the elements of a given array."
      ],
      "metadata": {
        "id": "A4O0oOyeHjPP"
      }
    },
    {
      "cell_type": "code",
      "source": [
        "import numpy as np\n",
        "arr=np.array(['ram','suresh','bravo','java is pure object'])\n",
        "print(f\"The given array is {arr}\")\n",
        "#Capitilazie the first letter\n",
        "print(\"The array in capitilaize is: \" ,np.char.capitalize(arr))\n",
        "#In lower case\n",
        "print(\"The array in lower case is: \" ,np.char.lower(arr))\n",
        "#In upper case\n",
        "print(\"The array in upper case is: \" ,np.char.upper(arr))\n",
        "#In swap case\n",
        "print(\"The array in swap case is: \" ,np.char.swapcase(arr))\n",
        "#In Title case\n",
        "print(\"The array Title case is: \" ,np.char.title(arr))\n"
      ],
      "metadata": {
        "colab": {
          "base_uri": "https://localhost:8080/"
        },
        "id": "3tQ4BYsyHyAy",
        "outputId": "8371b570-ce8a-4783-a5bd-b5bd15e73c43"
      },
      "execution_count": null,
      "outputs": [
        {
          "output_type": "stream",
          "name": "stdout",
          "text": [
            "The given array is ['ram' 'suresh' 'bravo' 'java is pure object']\n",
            "The array in capitilaize is:  ['Ram' 'Suresh' 'Bravo' 'Java is pure object']\n",
            "The array in lower case is:  ['ram' 'suresh' 'bravo' 'java is pure object']\n",
            "The array in upper case is:  ['RAM' 'SURESH' 'BRAVO' 'JAVA IS PURE OBJECT']\n",
            "The array in swap case is:  ['RAM' 'SURESH' 'BRAVO' 'JAVA IS PURE OBJECT']\n",
            "The array Title case is:  ['Ram' 'Suresh' 'Bravo' 'Java Is Pure Object']\n"
          ]
        }
      ]
    },
    {
      "cell_type": "markdown",
      "source": [
        "##Pratical:-17\n",
        "##Aim:-Write a program using Numpy to encode all the elements of the given array in cp037 and  decode it again"
      ],
      "metadata": {
        "id": "jiprS_xSRA59"
      }
    },
    {
      "cell_type": "code",
      "source": [
        "import numpy as np\n",
        "arr=np.array(['five','six','seven'])\n",
        "print(f\"The given array is {arr}\")\n",
        "#Encoding the array\n",
        "arr=np.char.encode(arr,encoding='cp037')\n",
        "print(f\"Array after encoding is : {arr}\")\n",
        "#Decoding the array\n",
        "arr=np.char.decode(arr,encoding='cp037')\n",
        "print(f\"Array after decoding is : {arr}\")\n"
      ],
      "metadata": {
        "colab": {
          "base_uri": "https://localhost:8080/"
        },
        "id": "3PkColzORJaE",
        "outputId": "238ba730-7ff4-4354-d30b-274595f246e7"
      },
      "execution_count": null,
      "outputs": [
        {
          "output_type": "stream",
          "name": "stdout",
          "text": [
            "The given array is ['five' 'six' 'seven']\n",
            "Array after encoding is : [b'\\x86\\x89\\xa5\\x85' b'\\xa2\\x89\\xa7' b'\\xa2\\x85\\xa5\\x85\\x95']\n",
            "Array after decoding is : ['five' 'six' 'seven']\n"
          ]
        }
      ]
    },
    {
      "cell_type": "markdown",
      "source": [
        "##Pratical:-18\n",
        "#Aim:-Write a program using numpy that make all the elements of given string to numeric string of 4  digits with zeros on its left."
      ],
      "metadata": {
        "id": "JMooaguGSW38"
      }
    },
    {
      "cell_type": "code",
      "source": [
        "import numpy as np\n",
        "arr=np.array(['2','3','33','55'])\n",
        "print(f\"The given array is {arr}\")\n",
        "arr1=np.char.zfill(arr,4)\n",
        "print(f\"The numeric string of 4 digitswith zeros on its left is : {arr1}\")\n"
      ],
      "metadata": {
        "colab": {
          "base_uri": "https://localhost:8080/"
        },
        "id": "hZQAfX6aShC5",
        "outputId": "4e89dd3f-9f89-489d-bcf5-9d8a5b162ea8"
      },
      "execution_count": null,
      "outputs": [
        {
          "output_type": "stream",
          "name": "stdout",
          "text": [
            "The given array is ['2' '3' '33' '55']\n",
            "The numeric string of 4 digitswith zeros on its left is : ['0002' '0003' '0033' '0055']\n"
          ]
        }
      ]
    },
    {
      "cell_type": "markdown",
      "source": [
        "##Pratical:-19\n",
        "##Aim:-Write a program using Numpy to count number of “C” element wise in a given array."
      ],
      "metadata": {
        "id": "fYROmnaNT3cd"
      }
    },
    {
      "cell_type": "code",
      "source": [
        "import numpy as np\n",
        "arr=np.array(['Cool','CHOCOLATE','Cow'])\n",
        "print(f\"The given array is {arr}\")\n",
        "arr1=np.char.count(arr,'C')\n",
        "print(f\"The number of C in each element is : {arr1}\")\n"
      ],
      "metadata": {
        "colab": {
          "base_uri": "https://localhost:8080/"
        },
        "id": "YV22qFK6T_d4",
        "outputId": "9f76b38b-4e69-4c30-af2f-54af3b0b853c"
      },
      "execution_count": null,
      "outputs": [
        {
          "output_type": "stream",
          "name": "stdout",
          "text": [
            "The given array is ['Cool' 'CHOCOLATE' 'Cow']\n",
            "The number of C in each element is : [1 2 1]\n"
          ]
        }
      ]
    },
    {
      "cell_type": "markdown",
      "source": [
        "##Pratical:-20\n",
        "##Aim:-Write a program using Numpy to test equal, not equal, greater equal, greater and less for all the  elements of two given arrays."
      ],
      "metadata": {
        "id": "SKCyq2yNVxka"
      }
    },
    {
      "cell_type": "code",
      "source": [
        "import numpy as np\n",
        "arr1=np.array(['77,22,11,34,10'])\n",
        "print(f\"The given array is {arr1}\")\n",
        "arr2=np.array(['70,22,19,27,111'])\n",
        "print(f\"The given array is {arr2}\")\n",
        "#For equal test\n",
        "et=np.char.equal(arr1,arr2)\n",
        "print(f\"The equal test is {et}\")\n",
        "#for not equal test\n",
        "net=np.char.not_equal(arr1,arr2)\n",
        "print(f\"The not equal test is {net}\")\n",
        "#Greater equal test\n",
        "get=np.char.greater_equal(arr1,arr2)\n",
        "print(f\"The greater equal test is {get}\")\n",
        "#Greater test\n",
        "gt=np.char.greater(arr1,arr2)\n",
        "print(f\"The greater test is {gt}\")\n",
        "#Lesser test\n",
        "lt=np.char.less(arr1,arr2)\n",
        "print(f\"The lesser test is {lt}\")\n",
        "\n"
      ],
      "metadata": {
        "colab": {
          "base_uri": "https://localhost:8080/"
        },
        "id": "TJtFPzKSV6lR",
        "outputId": "454e971a-d3f6-4b44-8d4b-0832d84abcbe"
      },
      "execution_count": null,
      "outputs": [
        {
          "output_type": "stream",
          "name": "stdout",
          "text": [
            "The given array is ['77,22,11,34,10']\n",
            "The given array is ['70,22,19,27,111']\n",
            "The equal test is [False]\n",
            "The not equal test is [ True]\n",
            "The greater equal test is [ True]\n",
            "The greater test is [ True]\n",
            "The lesser test is [False]\n"
          ]
        }
      ]
    },
    {
      "cell_type": "markdown",
      "source": [
        "##Pratical:-21\n",
        "##Aim:-Write a program using Numpy to store a given array into a text file and load it"
      ],
      "metadata": {
        "id": "HThF0Mbhwdbo"
      }
    },
    {
      "cell_type": "code",
      "source": [
        "import numpy as np\n",
        "arr=np.array(['cow is domestic animal'])\n",
        "print(f\"The given array is {arr}\")\n",
        "#for storing\n",
        "f=open('array.txt','w')\n",
        "f.write(f'{arr}')\n",
        "#For loading\n",
        "f=open('array.txt')\n",
        "print(f.read())\n",
        "f.close()"
      ],
      "metadata": {
        "colab": {
          "base_uri": "https://localhost:8080/"
        },
        "id": "Yo5E90vHwpNJ",
        "outputId": "c9d90e79-c9be-496f-9209-aae1e0d278c3"
      },
      "execution_count": null,
      "outputs": [
        {
          "output_type": "stream",
          "name": "stdout",
          "text": [
            "The given array is ['cow is domestic animal']\n",
            "['cow is domestic animal']\n"
          ]
        }
      ]
    },
    {
      "cell_type": "markdown",
      "source": [
        "##Pratical-22\n",
        "##Aim:-Write a program using numpy to get dates of yesterday, today and tomorrow."
      ],
      "metadata": {
        "id": "3suAvH9yx1Tw"
      }
    },
    {
      "cell_type": "code",
      "source": [
        "import numpy as np\n",
        "#yesterday\n",
        "yesterday=np.datetime64('today','D') - np.timedelta64(1,'D')\n",
        "print(f\"The yesterday is {yesterday}\")\n",
        "#today\n",
        "today=np.datetime64('today','D')\n",
        "print(f\"The today is {today}\")\n",
        "#tomorrow\n",
        "tomorrow=np.datetime64('today','D') + np.timedelta64(1,'D')\n",
        "print(f\"The tomorrow is {tomorrow}\")"
      ],
      "metadata": {
        "colab": {
          "base_uri": "https://localhost:8080/"
        },
        "id": "LH5jWeO4x-52",
        "outputId": "f7e6570d-bbcb-4eea-839d-ebe975c86f4f"
      },
      "execution_count": null,
      "outputs": [
        {
          "output_type": "stream",
          "name": "stdout",
          "text": [
            "The yesterday is 2022-09-04\n",
            "The today is 2022-09-05\n",
            "The tomorrow is 2022-09-06\n"
          ]
        }
      ]
    },
    {
      "cell_type": "markdown",
      "source": [
        "##Pratical:-23\n",
        "##Aim:-Write a program using NumPy to compute the mean, standard deviation, and variance of a  given array along the second axis."
      ],
      "metadata": {
        "id": "5TqiJCyO0h4k"
      }
    },
    {
      "cell_type": "code",
      "source": [
        "import numpy as np\n",
        "arr=np.array([[1,2,3],[14,25,36],[27,8,49]])\n",
        "#mean\n",
        "m=np.mean(arr,axis=1)\n",
        "print(f\"The mean is {m}\")\n",
        "#Standard deviation\n",
        "sd=np.round(np.std(arr,axis=1),decimals=4)\n",
        "print(f\"The standard deviation is {sd}\")"
      ],
      "metadata": {
        "colab": {
          "base_uri": "https://localhost:8080/"
        },
        "id": "Gh8atEig0sqW",
        "outputId": "1c297aa7-59a2-42c7-8eb7-f8a2596e49b9"
      },
      "execution_count": null,
      "outputs": [
        {
          "output_type": "stream",
          "name": "stdout",
          "text": [
            "The mean is [ 2. 25. 28.]\n",
            "The standard deviation is [ 0.8165  8.9815 16.7531]\n"
          ]
        }
      ]
    },
    {
      "cell_type": "markdown",
      "source": [
        "##Pratical:-24\n",
        "##Aim:-Write a program using Numpy array use to identify negative elements, positive elements and  zero elements and store them in respective list and display those lists."
      ],
      "metadata": {
        "id": "ea9Vorop3VQt"
      }
    },
    {
      "cell_type": "code",
      "source": [
        "import numpy as np\n",
        "arr=np.array([33,44,-23,11,-99,15,0])\n",
        "pos=[]\n",
        "neg=[]\n",
        "zero=[]\n",
        "for i in arr:\n",
        "  if i==0:\n",
        "    zero.append(i)\n",
        "  elif i>0:\n",
        "    pos.append(i)\n",
        "  else:\n",
        "    neg.append(i)\n",
        "print(f\"The positive element is {pos}\")  \n",
        "print(f\"The negative element is {neg}\")\n",
        "print(f\"The zero element is {zero}\")      \n",
        "        "
      ],
      "metadata": {
        "colab": {
          "base_uri": "https://localhost:8080/"
        },
        "id": "8_Xbxg223g6y",
        "outputId": "d9cf98ae-8ebb-497b-8ef9-abb53aba4fb6"
      },
      "execution_count": null,
      "outputs": [
        {
          "output_type": "stream",
          "name": "stdout",
          "text": [
            "The positive element is [33, 44, 11, 15]\n",
            "The negative element is [-23, -99]\n",
            "The zero element is [0]\n"
          ]
        }
      ]
    }
  ],
  "metadata": {
    "colab": {
      "provenance": [],
      "include_colab_link": true
    },
    "kernelspec": {
      "display_name": "Python 3",
      "name": "python3"
    },
    "language_info": {
      "name": "python"
    }
  },
  "nbformat": 4,
  "nbformat_minor": 0
}